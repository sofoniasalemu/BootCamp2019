{
 "cells": [
  {
   "cell_type": "markdown",
   "metadata": {},
   "source": [
    "# Exercise 7"
   ]
  },
  {
   "cell_type": "code",
   "execution_count": null,
   "metadata": {
    "collapsed": true
   },
   "outputs": [],
   "source": [
    "import autograd.numpy as np\n",
    "from scipy.optimize import  root as eqsolver\n",
    "from matplotlib import pyplot as plt"
   ]
  },
  {
   "cell_type": "code",
   "execution_count": null,
   "metadata": {
    "collapsed": true
   },
   "outputs": [],
   "source": [
    "def obj1(c,w,l,k,r,tau,alpha,gamma,xi,delta,a,beta):\n",
    "        V=np.zeros(5)\n",
    "        V[0]=w*l+(r-delta)*k-c\n",
    "        V[1]=beta*((r-delta)*(1-tau)+1)-1\n",
    "        V[2]=a*(1-l)**(-xi)-c**(-gamma)*w*(1-tau)\n",
    "        V[3]=alpha*k**(alpha-1)*l**(1-alpha)-r\n",
    "        V[4]=(1-alpha)*k**alpha*l**(-alpha)-w\n",
    "        return V\n",
    "\n",
    "def steady(tau,alpha,gamma,xi,delta,a,beta,obj1):\n",
    "    obj=lambda x: obj1(x[0],x[1],x[2],x[3],x[4],tau,alpha,gamma,xi,delta,a,beta)\n",
    "    sol=eqsolver(obj,np.array([1,1.5,.1,1.2,1])).x\n",
    "    sol=np.append(sol,tau0*(sol[1]*sol[2]+(sol[4]-delta)*sol[3]))\n",
    "    return sol"
   ]
  },
  {
   "cell_type": "code",
   "execution_count": null,
   "metadata": {
    "collapsed": true
   },
   "outputs": [],
   "source": [
    "def der_cen_2(f,x,h,i,j):\n",
    "    return (f(x+h*np.eye(1,len(x),i)[0])[j]-f(x-h*np.eye(1,len(x),i+1)[0])[j])/(2*h)\n",
    "\n",
    "def jacob(f,x0,h):\n",
    "    Jac=np.zeros([7,6])\n",
    "    for i in range(7):\n",
    "        for j in range(6):                     \n",
    "                Jac[i,j]=der_cen_2(f,x0,h,i,j)\n",
    "    return Jac\n",
    "\n",
    "f=lambda x:steady(x[0],x[1],x[2],x[3],x[4],x[5],x[6],obj1)"
   ]
  },
  {
   "cell_type": "code",
   "execution_count": null,
   "metadata": {
    "collapsed": true
   },
   "outputs": [],
   "source": [
    "tau0=.05\n",
    "alpha0=.4\n",
    "gamma0=2.5\n",
    "xi0=1.5\n",
    "delta0=.10\n",
    "a0=.5\n",
    "beta0=.98"
   ]
  },
  {
   "cell_type": "code",
   "execution_count": null,
   "metadata": {
    "collapsed": true
   },
   "outputs": [],
   "source": [
    "x0=np.array([tau0,alpha0,gamma0,xi0,delta0,a0,beta0])\n",
    "jjacob=jacob(f,x0,1e-4) ## Jacobian matrix"
   ]
  },
  {
   "cell_type": "code",
   "execution_count": null,
   "metadata": {
    "collapsed": true
   },
   "outputs": [],
   "source": [
    "# computes the jacobian computed in 10x7 different points\n",
    "K=10\n",
    "h0=1e-5\n",
    "\n",
    "tau1=np.linspace(0.01,.08,K)#.05\n",
    "alpha1=np.linspace(0.1,.7,K)#.4\n",
    "gamma1=np.linspace(2,3,K)#2.5\n",
    "xi1=np.linspace(1,2,K)#1.5\n",
    "delta1=np.linspace(0.05,.15,K)#.10\n",
    "a1=np.linspace(0.2,.7,K)#.5\n",
    "beta1=np.linspace(0.9,.99,K)#.98\n",
    "\n",
    "wrt_tau,wrt_alpha,wrt_gamma,wrt_xi,wrt_delta,wrt_a,wrt_beta=np.zeros([K,7,6]),np.zeros([K,7,6]),np.zeros([K,7,6]),np.zeros([K,7,6]),np.zeros([K,7,6]),np.zeros([K,7,6]),np.zeros([K,7,6])\n",
    "\n",
    "def fun_1(f,h0,K,tau1,alpha1,gamma1,xi1,delta1,a1,beta1,tau0,alpha0,gamma0,xi0,delta0,a0,beta0):\n",
    "    for i in range(K):\n",
    "        wrt_tau[i,:,:]=jacob(f,np.array([tau1[i],alpha0,gamma0,xi0,delta0,a0,beta0]),h0)\n",
    "        wrt_alpha[i,:,:]=jacob(f,np.array([tau0,alpha1[i],gamma0,xi0,delta0,a0,beta0]),h0)\n",
    "        wrt_gamma[i,:,:]=jacob(f,np.array([tau0,alpha0,gamma1[i],xi0,delta0,a0,beta0]),h0)\n",
    "        wrt_xi[i,:,:]=jacob(f,np.array([tau0,alpha0,gamma0,xi1[i],delta0,a0,beta0]),h0)\n",
    "        wrt_delta[i,:,:]=jacob(f,np.array([tau0,alpha0,gamma0,xi0,delta1[i],a0,beta0]),h0)\n",
    "        wrt_a[i,:,:]=jacob(f,np.array([tau0,alpha0,gamma0,xi0,delta0,a1[i],beta0]),h0)\n",
    "        wrt_beta[i,:,:]=jacob(f,np.array([tau0,alpha0,gamma0,xi0,delta0,a0,beta1[i]]),h0)\n",
    "    return wrt_tau,wrt_alpha,wrt_gamma,wrt_xi,wrt_delta,wrt_a,wrt_beta\n",
    "\n",
    "    \n",
    "wrt_tau,wrt_alpha,wrt_gamma,wrt_xi,wrt_delta,wrt_a,wrt_beta=fun_1(f,h0,K,tau1,alpha1,gamma1,xi1,delta1,a1,beta1,tau0,alpha0,gamma0,xi0,delta0,a0,beta0)"
   ]
  },
  {
   "cell_type": "code",
   "execution_count": null,
   "metadata": {
    "collapsed": true
   },
   "outputs": [],
   "source": [
    "\n",
    "##### Given a variable and a parameter, the following function \n",
    "##### plots th derivarive of the variable wrt the parameter.\n",
    "\n",
    "\n",
    "def plot_fun(fun,par,wrt_tau,wrt_alpha,wrt_gamma,wrt_xi,wrt_delta,wrt_a,wrt_beta):   \n",
    "    fun_list = ['c','w','l','k','r','T']\n",
    "    par_list = ['tau','alpha','gamma','xi','delta','a','beta']\n",
    "    if fun not in fun_list:\n",
    "            return \n",
    "    elif par not in par_list:\n",
    "            return \n",
    "    else:\n",
    "        ff=fun_list.index(fun)\n",
    "        if par=='tau':\n",
    "            plt.plot(wrt_tau[:,1,ff])\n",
    "        if par=='alpha':\n",
    "            plt.plot(wrt_alpha[:,2,ff])\n",
    "        if par=='gamma':\n",
    "            plt.plot(wrt_gamma[:,3,ff])\n",
    "        if par=='xi':\n",
    "            plt.plot(wrt_xi[:,4,ff])\n",
    "        if par=='delta':\n",
    "            plt.plot(wrt_delta[:,5,ff])\n",
    "        if par=='a':\n",
    "            plt.plot(wrt_a[:,6,ff])\n",
    "        if par=='beta':\n",
    "            plt.plot(wrt_beta[:,7,ff])     \n",
    "        plt.xlabel(par, size=16)\n",
    "        plt.ylabel(fun, size=16)\n",
    "        plt.show()  "
   ]
  },
  {
   "cell_type": "code",
   "execution_count": null,
   "metadata": {
    "collapsed": true
   },
   "outputs": [],
   "source": [
    "plot_fun('c','xi',wrt_tau,wrt_alpha,wrt_gamma,wrt_xi,wrt_delta,wrt_a,wrt_beta)  "
   ]
  }
 ],
 "metadata": {
  "kernelspec": {
   "display_name": "Python 3",
   "language": "python",
   "name": "python3"
  },
  "language_info": {
   "codemirror_mode": {
    "name": "ipython",
    "version": 3
   },
   "file_extension": ".py",
   "mimetype": "text/x-python",
   "name": "python",
   "nbconvert_exporter": "python",
   "pygments_lexer": "ipython3",
   "version": "3.6.2"
  }
 },
 "nbformat": 4,
 "nbformat_minor": 2
}
