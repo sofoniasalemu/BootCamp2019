{
 "cells": [
  {
   "cell_type": "markdown",
   "metadata": {},
   "source": [
    "# Asset Pricing Problem set"
   ]
  },
  {
   "cell_type": "markdown",
   "metadata": {},
   "source": [
    "# Section 2"
   ]
  },
  {
   "cell_type": "code",
   "execution_count": 1,
   "metadata": {
    "collapsed": true
   },
   "outputs": [],
   "source": [
    "import numpy as np\n",
    "from scipy.optimize import broyden1 as br1\n",
    "from scipy.optimize import minimize\n",
    "import pandas as pd"
   ]
  },
  {
   "cell_type": "markdown",
   "metadata": {},
   "source": [
    "Import Data"
   ]
  },
  {
   "cell_type": "code",
   "execution_count": 3,
   "metadata": {},
   "outputs": [],
   "source": [
    "defl=pd.read_csv(\"GDPDEF.csv\")\n",
    "cons=pd.read_csv(\"PCECC96.csv\")\n",
    "rf=pd.read_csv(\"TB3MS.csv\")\n",
    "index=pd.read_csv(\"WILL5000INDFC.csv\")\n",
    "\n",
    "dates_q=pd.to_datetime(cons['DATE'])\n",
    "dates_m=pd.to_datetime(index['DATE'])\n",
    "\n",
    "defl['DATE']=pd.to_datetime(defl['DATE'])\n",
    "defl=defl.set_index(['DATE'])\n",
    "defl=defl['1971-04-01':'2018-01-01']\n",
    "\n",
    "cons['DATE']=pd.to_datetime(cons['DATE'])\n",
    "cons=cons.set_index(['DATE'])\n",
    "cons=cons['1971-04-01':'2018-01-01']\n",
    "\n",
    "rf['DATE']=pd.to_datetime(rf['DATE'])\n",
    "rf=rf.set_index(['DATE'])\n",
    "rf=rf['1971-04-01':'2018-01-01']\n",
    "\n",
    "index['DATE']=pd.to_datetime(index['DATE'])\n",
    "index=index.set_index(['DATE'])\n",
    "index=index['1971-04-01':'2018-01-01']"
   ]
  },
  {
   "cell_type": "code",
   "execution_count": null,
   "metadata": {
    "collapsed": true
   },
   "outputs": [],
   "source": [
    "Change to Quarterly"
   ]
  },
  {
   "cell_type": "code",
   "execution_count": 4,
   "metadata": {
    "collapsed": true
   },
   "outputs": [],
   "source": [
    "v_i=index['WILL5000INDFC'].values[1:]/index['WILL5000INDFC'].values[:-1]\n",
    "v_rf=(rf['TB3MS'].values[1:]/100+1)**(1/12)\n",
    "index_a=np.empty([1,])\n",
    "rf_a=np.empty([1,])\n",
    "for i in range(2,560,3):\n",
    "    index_a=np.append(index_a,v_i[i]*v_i[i-1]*v_i[i-2])\n",
    "    rf_a=np.append(rf_a,v_rf[i]*v_rf[i-1]*v_rf[i-2])\n",
    "defla=defl['GDPDEF'].values[1:]/defl['GDPDEF'].values[:-1] \n",
    "\n",
    "index_a=index_a*defla\n",
    "cons_a=cons['PCECC96'].values[1:]"
   ]
  },
  {
   "cell_type": "markdown",
   "metadata": {},
   "source": [
    "Ex 1 and 3"
   ]
  },
  {
   "cell_type": "code",
   "execution_count": 5,
   "metadata": {},
   "outputs": [
    {
     "name": "stdout",
     "output_type": "stream",
     "text": [
      "\n",
      "################       Estimation of gamma from the euler equation with market return      #################\n",
      "\n",
      "gamma =  3.4891962926180566 \n",
      "\n",
      "################       Estimation of gamma from the euler equation with risk free return      #################\n",
      "\n",
      "gamma =  0.1919488962624395 \n",
      "\n"
     ]
    }
   ],
   "source": [
    "def mom1(index_a,cons_a,gamma,beta):\n",
    "  return 1-np.mean(beta*(cons_a[1:]/cons_a[:-1])**(-gamma)*index_a[1:])\n",
    "\n",
    "def mom2(rf_a,cons_a,gamma,beta):\n",
    "  return 1-np.mean(beta*(cons_a[1:]/cons_a[:-1])**(-gamma)*rf_a[1:])\n",
    "\n",
    "\n",
    "beta=.99\n",
    "f_1=lambda gamma: mom1(index_a,cons_a,gamma,beta)\n",
    "f_2=lambda gamma: mom2(rf_a,cons_a,gamma,beta)\n",
    "\n",
    "\n",
    "\n",
    "gamma_1=br1(f_1,.1)  ## using only the market return\n",
    "gamma_2=br1(f_2,.5)  ##  Using only the risk free return\n",
    "\n",
    "print(\"\\n################ \\\n",
    "      Estimation of gamma from the euler equation with market return\\\n",
    "      #################\\n\")\n",
    "print(\"gamma = \",gamma_1,\"\\n\")\n",
    "\n",
    "print(\"################ \\\n",
    "      Estimation of gamma from the euler equation with risk free return\\\n",
    "      #################\\n\")\n",
    "print(\"gamma = \",gamma_2,\"\\n\")"
   ]
  },
  {
   "cell_type": "markdown",
   "metadata": {},
   "source": [
    "The estimate for gamma is reasonable when only risk free is used and very high fwhen market return is used"
   ]
  },
  {
   "cell_type": "code",
   "execution_count": 6,
   "metadata": {},
   "outputs": [
    {
     "name": "stdout",
     "output_type": "stream",
     "text": [
      "################      GMM estimation of gamma and beta with Identity matrix      ################\n",
      "\n",
      "gamma =  0.902790929411\n",
      "beta =  0.98295517529 \n",
      "\n",
      "################       GMM estimation of gamma and beta with Covariance matrix       ###############\n",
      "\n",
      "gamma =  0.899101089614\n",
      "beta =  0.980901114995\n"
     ]
    }
   ],
   "source": [
    "def gmm_moms(x,M):\n",
    "    V=np.empty([2,])\n",
    "    V[0]=mom1(index_a,cons_a,x[0],x[1])\n",
    "    V[1]=mom2(rf_a,cons_a,x[0],x[1])\n",
    "    return np.dot(np.dot(V,M),V)\n",
    "\n",
    "M=np.eye(2)\n",
    "M_1=np.cov(index_a,rf_a)\n",
    "f_3=lambda x: gmm_moms(x,M)\n",
    "f_4=lambda x: gmm_moms(x,M_1)\n",
    "\n",
    "x_sol=minimize(f_3,np.array([.9,.1])).x\n",
    "gamma_3=x_sol[0]\n",
    "beta_3=x_sol[1]\n",
    "\n",
    "x_sol=minimize(f_4,np.array([.9,.1])).x\n",
    "gamma_4=x_sol[0]\n",
    "beta_4=x_sol[1]\n",
    "\n",
    "\n",
    "\n",
    "print(\"################\\\n",
    "      GMM estimation of gamma and beta with Identity matrix\\\n",
    "      ################\\n\")\n",
    "print(\"gamma = \",gamma_3)\n",
    "print(\"beta = \",beta_3,\"\\n\")\n",
    "\n",
    "print(\"################ \\\n",
    "      GMM estimation of gamma and beta with Covariance matrix \\\n",
    "      ###############\\n\")\n",
    "print(\"gamma = \",gamma_4)\n",
    "print(\"beta = \",beta_4)"
   ]
  }
 ],
 "metadata": {
  "kernelspec": {
   "display_name": "Python 3",
   "language": "python",
   "name": "python3"
  },
  "language_info": {
   "codemirror_mode": {
    "name": "ipython",
    "version": 3
   },
   "file_extension": ".py",
   "mimetype": "text/x-python",
   "name": "python",
   "nbconvert_exporter": "python",
   "pygments_lexer": "ipython3",
   "version": "3.6.2"
  }
 },
 "nbformat": 4,
 "nbformat_minor": 2
}
