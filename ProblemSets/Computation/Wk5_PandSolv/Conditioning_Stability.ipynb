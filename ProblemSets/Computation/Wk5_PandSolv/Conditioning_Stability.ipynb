{
 "cells": [
  {
   "cell_type": "code",
   "execution_count": 10,
   "metadata": {
    "collapsed": true
   },
   "outputs": [],
   "source": [
    "import numpy as np\n",
    "import scipy\n",
    "from scipy import linalg"
   ]
  },
  {
   "cell_type": "markdown",
   "metadata": {},
   "source": [
    "EX 1"
   ]
  },
  {
   "cell_type": "code",
   "execution_count": 4,
   "metadata": {},
   "outputs": [
    {
     "name": "stdout",
     "output_type": "stream",
     "text": [
      "\n",
      "my function: 19.3864145695 \n",
      "\n",
      "numpy: 19.3864145695\n"
     ]
    }
   ],
   "source": [
    "def pb1(A):\n",
    "    s=scipy.linalg.svdvals(A)\n",
    "    if min(s)==0:\n",
    "        return np.inf\n",
    "    else:\n",
    "        return max(s)/min(s)\n",
    "\n",
    "\n",
    "A= np.random.rand(6, 6)\n",
    "\n",
    "print(\"\\nmy function:\", pb1(A),\"\\n\")\n",
    "print(\"numpy:\",np.linalg.cond(A))\n"
   ]
  },
  {
   "cell_type": "markdown",
   "metadata": {},
   "source": [
    "EX 2"
   ]
  },
  {
   "cell_type": "code",
   "execution_count": 6,
   "metadata": {},
   "outputs": [
    {
     "data": {
      "image/png": "[encoded data removed]",
      "text/plain": [
       "<matplotlib.figure.Figure at 0x1cdce45d550>"
      ]
     },
     "metadata": {},
     "output_type": "display_data"
    }
   ],
   "source": [
    "import sympy as sy\n",
    "from matplotlib import pyplot as plt\n",
    "\n",
    "w_roots = np.arange(1,21)\n",
    "\n",
    "x, i = sy.symbols('x i')\n",
    "w = sy.poly_from_expr(sy.product(x-i, (i,1,20)))[0]\n",
    "w_coeffs=np.array(w.all_coeffs())\n",
    "\n",
    "\n",
    "h=np.random.normal(1,1e-10,21)\n",
    "\n",
    "new_coeffs = w_coeffs * h\n",
    "new_roots = np.roots(np.poly1d(new_coeffs))\n",
    "\n",
    "plt.scatter(np.real(w_roots),np.imag(w_roots))\n",
    "plt.scatter(np.real(new_roots),np.imag(new_roots))\n",
    "plt.show()"
   ]
  },
  {
   "cell_type": "markdown",
   "metadata": {},
   "source": [
    "EX 3"
   ]
  },
  {
   "cell_type": "code",
   "execution_count": 7,
   "metadata": {
    "collapsed": true
   },
   "outputs": [],
   "source": [
    "def pb3(A):\n",
    "    lamb=scipy.linalg.eigvals(A)\n",
    "    reals=np.random.normal(0,1e-10,A.shape)\n",
    "    imag=np.random.normal(0,1e-10,A.shape)\n",
    "    H = reals + 1j*imag\n",
    "    lamb_p=scipy.linalg.eigvals(A+H)\n",
    "    \n",
    "    cond_abs=np.linalg.norm(lamb-lamb_p)/np.linalg.norm(H)\n",
    "    cond_rel=cond_abs*np.linalg.norm(A)/np.linalg.norm(lamb)\n",
    "    return cond_abs,cond_rel\n"
   ]
  },
  {
   "cell_type": "markdown",
   "metadata": {},
   "source": [
    "EX 4"
   ]
  },
  {
   "cell_type": "code",
   "execution_count": 8,
   "metadata": {
    "collapsed": true
   },
   "outputs": [],
   "source": [
    "def pb4(x_min,x_max,y_min,y_max,res):\n",
    "    X=np.linspace(x_min,x_max,100)\n",
    "    Y=np.linspace(y_min,y_max,100)\n",
    "    Result=np.zeros([100,100])\n",
    "    for i in range(100):\n",
    "        for j in range(100):\n",
    "            A=np.array([[1,X[i]],[Y[j],1]])\n",
    "            a,b=pb3(A)\n",
    "            Result[i,j]=b\n",
    "    plt.pcolormesh(Result,cmap='gray_r')        \n",
    "    return Result"
   ]
  },
  {
   "cell_type": "markdown",
   "metadata": {},
   "source": [
    "EX 5"
   ]
  },
  {
   "cell_type": "code",
   "execution_count": 9,
   "metadata": {
    "collapsed": true
   },
   "outputs": [],
   "source": [
    "def pb5(n):\n",
    "    xk,yk = np.load(\"stability_data.npy\").T\n",
    "    A=np.vander(xk,n+1)\n",
    "    sol_norm=np.dot(np.linalg.inc(np.dot(A.T,A)),np.dot(A.T,yk))\n",
    "    Q,R=np.linalg.qr(A,'economic')\n",
    "    sol_dec=scipy.linalf.solve_triangular(R,np.dot(Q.T,yk))\n",
    "    plt.scatter(xk,yk)\n",
    "    plt.plot(xk,np.dot(A,sol_norm))\n",
    "    plt.plot(xk,np.dot(A,sol_dec))\n",
    "    fe_norm=np.linalg.norm(np.dot(A,sol_norm)-yk,2)\n",
    "    fe_dec=np.linalg.norm(np.dot(A,sol_dec)-yk,2)\n",
    "    return fe_norm, fe_dec    "
   ]
  }
 ],
 "metadata": {
  "kernelspec": {
   "display_name": "Python 3",
   "language": "python",
   "name": "python3"
  },
  "language_info": {
   "codemirror_mode": {
    "name": "ipython",
    "version": 3
   },
   "file_extension": ".py",
   "mimetype": "text/x-python",
   "name": "python",
   "nbconvert_exporter": "python",
   "pygments_lexer": "ipython3",
   "version": "3.6.2"
  }
 },
 "nbformat": 4,
 "nbformat_minor": 2
}
