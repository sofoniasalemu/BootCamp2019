{
 "cells": [
  {
   "cell_type": "code",
   "execution_count": 8,
   "metadata": {
    "collapsed": true
   },
   "outputs": [],
   "source": [
    "\n",
    "import numpy as np\n",
    "import scipy\n",
    "from  scipy import linalg\n",
    "from matplotlib import pyplot as plt\n",
    "from scipy import sparse"
   ]
  },
  {
   "cell_type": "markdown",
   "metadata": {},
   "source": [
    "EX 1 and EX 2"
   ]
  },
  {
   "cell_type": "code",
   "execution_count": 2,
   "metadata": {},
   "outputs": [
    {
     "name": "stdout",
     "output_type": "stream",
     "text": [
      "Are Ax and b close?  True\n"
     ]
    }
   ],
   "source": [
    "def pb1_jacobi(A,b,tol,maxiter,plot=False):    \n",
    "    D=np.diag(A)\n",
    "    \n",
    "    x_0=np.zeros(b.shape)\n",
    "    x_sol=np.ones(b.shape)\n",
    "    itera=0\n",
    "    err=np.empty([1,])\n",
    "    while (np.linalg.norm(x_sol-x_0,np.inf)>tol) & (itera<=maxiter):\n",
    "        x_0=x_sol.copy()\n",
    "        x_sol=x_0+(b-np.dot(A,x_0))/D\n",
    "        itera=itera+1\n",
    "        err=np.append(err,np.linalg.norm(x_sol-x_0,np.inf))\n",
    "    if plot==True:\n",
    "        from matplotlib import pyplot as plt\n",
    "        plt.figure(1)\n",
    "        plt.plot(err[1:])\n",
    "        plt.title(\"Convergence of Jacobi method\")\n",
    "        plt.xlabel(\"iteration\")\n",
    "        plt.ylabel(\"Ans err of approximation\")\n",
    "    return x_sol    \n",
    "        \n",
    "def diag_dom(n, num_entries=None):\n",
    "    \"\"\"Generate a strictly diagonally dominant (n, n) matrix.\n",
    "    Parameters:\n",
    "    n (int): The dimension of the system.\n",
    "    num_entries (int): The number of nonzero values.\n",
    "    Defaults to n^(3/2)-n.\n",
    "    Returns:\n",
    "    A ((n,n) ndarray): A (n, n) strictly diagonally dominant matrix.\n",
    "    \"\"\"\n",
    "    if num_entries is None:\n",
    "        num_entries = int(n**1.5) - n\n",
    "    A = np.zeros((n,n))\n",
    "    rows = np.random.choice(np.arange(0,n), size=num_entries)\n",
    "    cols = np.random.choice(np.arange(0,n), size=num_entries)\n",
    "    data = np.random.randint(-4, 4, size=num_entries)\n",
    "    for i in range(num_entries):\n",
    "        A[rows[i], cols[i]] = data[i]\n",
    "    for i in range(n):\n",
    "        A[i,i] = np.sum(np.abs(A[i])) + 1\n",
    "    return A\n",
    "\n",
    "n=100\n",
    "tol=1e-10\n",
    "maxiter=1000\n",
    "b=np.random.random(n)\n",
    "A=diag_dom(n)\n",
    "x=pb1_jacobi(A,b,tol,maxiter,True)\n",
    "\n",
    "print(\"Are Ax and b close? \",np.allclose(np.dot(A,x),b))"
   ]
  },
  {
   "cell_type": "markdown",
   "metadata": {},
   "source": [
    "EX 3"
   ]
  },
  {
   "cell_type": "code",
   "execution_count": 3,
   "metadata": {},
   "outputs": [
    {
     "name": "stdout",
     "output_type": "stream",
     "text": [
      "Are Ax and b close?  True\n",
      "no of iterations:  16\n"
     ]
    }
   ],
   "source": [
    "def gauss_seidel(A,b,tol,maxiter,plot=False):\n",
    "    D=np.diag(A)\n",
    "    \n",
    "    x_0=np.zeros(b.shape)\n",
    "    x_sol=np.ones(b.shape)\n",
    "    itera=0\n",
    "    err=np.empty([1,])\n",
    "    while (np.linalg.norm(x_sol-x_0,np.inf)>tol) & (itera<=maxiter):\n",
    "        x_0=x_sol.copy()\n",
    "        x_sol[0]=x_0[0]+(b[0]-np.dot(A[0,:],x_0))/D[0]\n",
    "        for i in range(1,len(x_0)):\n",
    "            x_0[i-1]=x_sol[i-1].copy()\n",
    "            x_sol[i]=x_0[i]+(b[i]-np.dot(A[i,:],x_0))/D[i]       \n",
    "        itera=itera+1\n",
    "        err=np.append(err,np.linalg.norm(x_sol-x_0,np.inf))\n",
    "    if plot==True:\n",
    "        from matplotlib import pyplot as plt\n",
    "        plt.figure(1)\n",
    "        plt.plot(err[1:])\n",
    "        plt.title(\"Convergence of Jacobi method\")\n",
    "        plt.xlabel(\"iteration\")\n",
    "        plt.ylabel(\"Ans err of approximation\")\n",
    "    return x_sol , itera   \n",
    "        \n",
    "n=100\n",
    "tol=1e-10\n",
    "maxiter=1000\n",
    "b=np.random.random(n)\n",
    "A=diag_dom(n)\n",
    "x,itera=gauss_seidel(A,b,tol,maxiter,True)\n",
    "\n",
    "print(\"Are Ax and b close? \",np.allclose(np.dot(A,x),b))\n",
    "print(\"no of iterations: \", itera)"
   ]
  },
  {
   "cell_type": "markdown",
   "metadata": {},
   "source": [
    "EX 4"
   ]
  },
  {
   "cell_type": "code",
   "execution_count": 4,
   "metadata": {},
   "outputs": [
    {
     "name": "stdout",
     "output_type": "stream",
     "text": [
      "no of iterations:  12\n"
     ]
    }
   ],
   "source": [
    "def gauss_seidel_sparse(A,b,tol,maxiter,plot=False):\n",
    "    D=A.diagonal()\n",
    "    \n",
    "    x_0=np.zeros(b.shape)\n",
    "    x_sol=np.ones(b.shape)\n",
    "    itera=0\n",
    "    err=np.empty([1,])\n",
    "    while (np.linalg.norm(x_sol-x_0,np.inf)>tol) & (itera<=maxiter):\n",
    "        x_0=x_sol.copy()\n",
    "        \n",
    "        rowstart = A.indptr[0]\n",
    "        rowend = A.indptr[1]\n",
    "        Aix = A.data[rowstart:rowend] @ x_0[A.indices[rowstart:rowend]]\n",
    "        x_sol[0]=x_0[0]+(b[0]-Aix)/D[0]\n",
    "        for i in range(1,len(x_0)):\n",
    "            x_0[i-1]=x_sol[i-1].copy()\n",
    "            rowstart = A.indptr[i]\n",
    "            rowend = A.indptr[i+1]\n",
    "            Aix = A.data[rowstart:rowend] @ x_0[A.indices[rowstart:rowend]]\n",
    "            x_sol[i]=x_0[i]+(b[i]-Aix)/D[i]\n",
    "            \n",
    "        itera=itera+1\n",
    "        err=np.append(err,np.linalg.norm(x_sol-x_0,np.inf))\n",
    "    if plot==True:\n",
    "        from matplotlib import pyplot as plt\n",
    "        plt.figure(1)\n",
    "        plt.plot(err[1:])\n",
    "        plt.title(\"Convergence of Jacobi method\")\n",
    "        plt.xlabel(\"iteration\")\n",
    "        plt.ylabel(\"Ans err of approximation\")\n",
    "    return x_sol,itera    \n",
    "\n",
    "\n",
    "n=500\n",
    "A=sparse.csr_matrix(diag_dom(n))\n",
    "b=np.random.random(n)\n",
    "tol=1e-10\n",
    "maxiter=1000\n",
    "x,itera=gauss_seidel_sparse(A,b,tol,maxiter,True)\n",
    "print(\"no of iterations: \", itera)"
   ]
  },
  {
   "cell_type": "markdown",
   "metadata": {},
   "source": [
    "EX 5"
   ]
  },
  {
   "cell_type": "code",
   "execution_count": 5,
   "metadata": {},
   "outputs": [
    {
     "name": "stdout",
     "output_type": "stream",
     "text": [
      "no of iterations:  25\n"
     ]
    }
   ],
   "source": [
    "def gauss_seidel_sparse_rel(A,b,w,tol,maxiter,plot=False):\n",
    "    D=A.diagonal()\n",
    "    \n",
    "    x_0=np.zeros(b.shape)\n",
    "    x_sol=np.ones(b.shape)\n",
    "    itera=0\n",
    "    err=np.empty([1,])\n",
    "    while (np.linalg.norm(x_sol-x_0,np.inf)>tol) & (itera<=maxiter):\n",
    "        x_0=x_sol.copy()\n",
    "        \n",
    "        rowstart = A.indptr[0]\n",
    "        rowend = A.indptr[1]\n",
    "        Aix = A.data[rowstart:rowend] @ x_0[A.indices[rowstart:rowend]]\n",
    "        x_sol[0]=x_0[0]+w*(b[0]-Aix)/D[0]\n",
    "        for i in range(1,len(x_0)):\n",
    "            x_0[i-1]=x_sol[i-1].copy()\n",
    "            rowstart = A.indptr[i]\n",
    "            rowend = A.indptr[i+1]\n",
    "            Aix = A.data[rowstart:rowend] @ x_0[A.indices[rowstart:rowend]]\n",
    "            x_sol[i]=x_0[i]+w*(b[i]-Aix)/D[i]\n",
    "            \n",
    "        itera=itera+1\n",
    "        err=np.append(err,np.linalg.norm(x_sol-x_0,np.inf))\n",
    "    if plot==True:\n",
    "        from matplotlib import pyplot as plt\n",
    "        plt.figure(1)\n",
    "        plt.plot(err[1:])\n",
    "        plt.title(\"Convergence of Jacobi method\")\n",
    "        plt.xlabel(\"iteration\")\n",
    "        plt.ylabel(\"Ans err of approximation\")\n",
    "    return x_sol,itera    \n",
    "\n",
    "from scipy import sparse\n",
    "n=500\n",
    "A=sparse.csr_matrix(diag_dom(n))\n",
    "b=np.random.random(n)\n",
    "tol=1e-10\n",
    "maxiter=1000\n",
    "w=1.2\n",
    "x,itera=gauss_seidel_sparse_rel(A,b,w,tol,maxiter,True)\n",
    "print(\"no of iterations: \", itera)\n"
   ]
  },
  {
   "cell_type": "markdown",
   "metadata": {},
   "source": [
    "EX 6"
   ]
  },
  {
   "cell_type": "code",
   "execution_count": 12,
   "metadata": {},
   "outputs": [
    {
     "name": "stdout",
     "output_type": "stream",
     "text": [
      "no of iterations:  176\n"
     ]
    },
    {
     "data": {
      "image/png": "[encoded data removed]",
      "text/plain": [
       "<matplotlib.figure.Figure at 0x20acf5dbb70>"
      ]
     },
     "metadata": {},
     "output_type": "display_data"
    },
    {
     "data": {
      "image/png": "[encoded data removed]",
      "text/plain": [
       "<matplotlib.figure.Figure at 0x20acf4a7940>"
      ]
     },
     "metadata": {},
     "output_type": "display_data"
    }
   ],
   "source": [
    "def lapl_eq(n):\n",
    "    B1=-4*np.eye(n)\n",
    "    B2=np.zeros([n,n])\n",
    "    B2[1:,:-1]=np.eye(n-1)\n",
    "    B3=np.zeros([n,n])\n",
    "    B3[:-1,1:]=np.eye(n-1)\n",
    "    B=B1+B2+B3\n",
    "    a=[B]*n\n",
    "    A=linalg.block_diag(*a)\n",
    "    \n",
    "    n1=A.shape[0]\n",
    "    A1=np.zeros([n1,n1])\n",
    "    A1[n:,:-n]=np.eye(n1-n)\n",
    "    A2=np.zeros([n1,n1])\n",
    "    A2[:-n,n:]=np.eye(n1-n)\n",
    "    A=A+A1+A2\n",
    "    \n",
    "    b=np.tile(np.append(np.append(-100.,np.zeros([n-2,])),-100.),n)\n",
    "    return A,b\n",
    "\n",
    "\n",
    "n=10\n",
    "A,b=lapl_eq(n)\n",
    "A=sparse.csr_matrix(A)\n",
    "\n",
    "tol=1e-10\n",
    "maxiter=1000\n",
    "w=1.2\n",
    "x,itera=gauss_seidel_sparse_rel(A,b,w,tol,maxiter,True)\n",
    "U=np.reshape(x,(n,n))\n",
    "print(\"no of iterations: \", itera)\n",
    "plt.figure(6)\n",
    "plt.pcolormesh(U)\n",
    "plt.show()"
   ]
  },
  {
   "cell_type": "markdown",
   "metadata": {},
   "source": [
    "EX 7"
   ]
  },
  {
   "cell_type": "code",
   "execution_count": 13,
   "metadata": {},
   "outputs": [
    {
     "data": {
      "image/png": "[encoded data removed]",
      "text/plain": [
       "<matplotlib.figure.Figure at 0x20acf558978>"
      ]
     },
     "metadata": {},
     "output_type": "display_data"
    },
    {
     "name": "stdout",
     "output_type": "stream",
     "text": [
      "The optimal relaxation w =  1.75\n"
     ]
    }
   ],
   "source": [
    "n=20\n",
    "A,b=lapl_eq(n)\n",
    "A=sparse.csr_matrix(A)\n",
    "\n",
    "tol=1e-2\n",
    "maxiter=1000\n",
    "\n",
    "Itera=np.zeros([20,])\n",
    "W=np.linspace(1,1.95,20)\n",
    "for i in range(20):\n",
    "    x,Itera[i]=gauss_seidel_sparse_rel(A,b,W[i],tol,maxiter,False)\n",
    "    \n",
    "plt.figure(7)\n",
    "plt.plot(W,Itera)\n",
    "plt.show()\n",
    "print(\"The optimal relaxation w = \",W[np.argmin(Itera)])\n",
    "\n"
   ]
  }
 ],
 "metadata": {
  "kernelspec": {
   "display_name": "Python 3",
   "language": "python",
   "name": "python3"
  },
  "language_info": {
   "codemirror_mode": {
    "name": "ipython",
    "version": 3
   },
   "file_extension": ".py",
   "mimetype": "text/x-python",
   "name": "python",
   "nbconvert_exporter": "python",
   "pygments_lexer": "ipython3",
   "version": "3.6.2"
  }
 },
 "nbformat": 4,
 "nbformat_minor": 2
}
