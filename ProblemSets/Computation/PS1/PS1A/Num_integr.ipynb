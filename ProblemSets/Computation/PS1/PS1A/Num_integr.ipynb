{
 "cells": [
  {
   "cell_type": "code",
   "execution_count": 2,
   "metadata": {
    "collapsed": true
   },
   "outputs": [],
   "source": [
    "import numpy as np\n"
   ]
  },
  {
   "cell_type": "markdown",
   "metadata": {},
   "source": [
    "# Problem 1"
   ]
  },
  {
   "cell_type": "code",
   "execution_count": 5,
   "metadata": {},
   "outputs": [
    {
     "name": "stdout",
     "output_type": "stream",
     "text": [
      "midpoint:  4398.58740072\n",
      "trapezoid:  4368.98740072\n",
      "Simpsons:  4375.40353809\n"
     ]
    }
   ],
   "source": [
    "def ex_21(g,a,b,N,met):\n",
    "\n",
    "    if met==\"midpoint\":\n",
    "        P=np.linspace(a,b,N)\n",
    "        ans= (b-a)/N*np.sum(g(P[:-1]))        \n",
    "    elif met==\"trapezoid\":\n",
    "        P=np.linspace(a,b,N)\n",
    "        ans= ((b-a)/(2*N))*(g(P[0])+2*np.sum(g(P[1:-1]))+g(P[-1]))\n",
    "    elif met==\"Simpsons\":    \n",
    "        P=np.linspace(a,b,2*N)\n",
    "        v1=np.sum(g(P[range(1,2*N-1,2)]))\n",
    "        v2=np.sum(g(P[range(2,2*N-2,2)]))\n",
    "        ans= ((b-a)/(6*N))*(g(P[0]) + 4*v1 + 2*v2 + g(P[-1]))\n",
    "    return ans        \n",
    "\n",
    "f=lambda x: .1*np.power(x,4)-1.5*np.power(x,3)+.53*np.power(x,2)+2*x+1    \n",
    "print(\"midpoint: \",ex_21(f,-10,10,1000,'midpoint')) \n",
    "print('trapezoid: ',ex_21(f,-10,10,1000,'trapezoid')) \n",
    "print('Simpsons: ',ex_21(f,-10,10,1000,'Simpsons')) #####"
   ]
  },
  {
   "cell_type": "markdown",
   "metadata": {},
   "source": [
    "# Problem 2, 2,3 & 2.4"
   ]
  },
  {
   "cell_type": "code",
   "execution_count": 9,
   "metadata": {
    "scrolled": true
   },
   "outputs": [
    {
     "name": "stdout",
     "output_type": "stream",
     "text": [
      "numerical integr: 50011.0870085\n",
      "exact integral:  50011.0870085\n"
     ]
    }
   ],
   "source": [
    "def ex_22(mu,sigma,N,k):\n",
    "    from scipy.stats import norm as nor\n",
    "    Z=np.linspace(mu-k*sigma,mu+k*sigma,N)\n",
    "    w=np.zeros(N)\n",
    "    w[0]=nor.cdf((Z[0]+Z[1])/2,mu,sigma)\n",
    "    for i in range (N-2):\n",
    "        Z_min=.5*(Z[i-1]+Z[i])\n",
    "        Z_max=.5*(Z[i+1]+Z[i])\n",
    "        #w[i]=nor(mu,sigma).cdf(Z_max)-nor(mu,sigma).cdf(Z_min)\n",
    "        w[i]=(Z_max-Z_min)*nor(mu,sigma).pdf(Z[i])\n",
    "        w[-1]=1-nor.cdf((Z[-2]+Z[-1])/2,mu,sigma)\n",
    "    return w, Z\n",
    "    \n",
    "w,Z=ex_22(0,1,11,4)\n",
    "\n",
    "def ex_23(mu,sigma,N,k):\n",
    "    W,A=ex_22(mu,sigma,N,k)\n",
    "    return W,np.exp(A)\n",
    "\n",
    "mu,sigma=10.5,.8\n",
    "N,k=100,10\n",
    "W,A=ex_23(mu,sigma,100,k)\n",
    "\n",
    "res1=np.exp(mu+.5*sigma**2)\n",
    "res2=np.average(A,weights=W)\n",
    "\n",
    "print('numerical integr:',res2)\n",
    "print('exact integral: ',res1)"
   ]
  },
  {
   "cell_type": "markdown",
   "metadata": {},
   "source": [
    "# Problem 3.1 & 3.2"
   ]
  },
  {
   "cell_type": "code",
   "execution_count": 11,
   "metadata": {},
   "outputs": [
    {
     "name": "stdout",
     "output_type": "stream",
     "text": [
      "Gauss quad:  4373.33333334\n",
      "scipy.integrate.quad:  4373.333333333334\n"
     ]
    }
   ],
   "source": [
    "def g(a,b,v):\n",
    "    w=v[0:3]\n",
    "    x=v[3:]\n",
    "    R=np.zeros(6)\n",
    "    R[0]=(b-a)-(w[0]+w[1]+w[2])\n",
    "    R[1]=(1/2)*(b**2-a**2)-(w[0]*x[0]+w[1]*x[1]+w[2]*x[2])\n",
    "    R[2]=(1/3)*(b**3-a**3)-(w[0]*x[0]**2+w[1]*x[1]**2+w[2]*x[2]**2)\n",
    "    R[3]=(1/4)*(b**4-a**4)-(w[0]*x[0]**3+w[1]*x[1]**3+w[2]*x[2]**3)\n",
    "    R[4]=(1/5)*(b**5-a**5)-(w[0]*x[0]**4+w[1]*x[1]**4+w[2]*x[2]**4)\n",
    "    R[5]=(1/6)*(b**6-a**6)-(w[0]*x[0]**5+w[1]*x[1]**5+w[2]*x[2]**5)\n",
    "    return R\n",
    "\n",
    "def Gauss_quad(a,b,f,N):       \n",
    "    g_1=lambda v: g(a,b,v)\n",
    "    from scipy.optimize import  root as eqsolver\n",
    "    vstar=eqsolver(g_1,np.ones(2*N)).x\n",
    "    w=vstar[0:N]\n",
    "    x=vstar[N:]\n",
    "    return f(x)@w\n",
    " \n",
    "f=lambda x: .1*np.power(x,4)-1.5*np.power(x,3)+.53*np.power(x,2)+2*x+1  \n",
    "\n",
    "print(\"Gauss quad: \",Gauss_quad(-10,10,f,3)) \n",
    "    \n",
    "import scipy as sc\n",
    "print(\"scipy.integrate.quad: \",sc.integrate.quad(f,-10,10)[0])"
   ]
  },
  {
   "cell_type": "markdown",
   "metadata": {},
   "source": [
    "# Problem 4.1"
   ]
  },
  {
   "cell_type": "code",
   "execution_count": 15,
   "metadata": {},
   "outputs": [
    {
     "name": "stdout",
     "output_type": "stream",
     "text": [
      "pi est:  3.13128205128\n"
     ]
    }
   ],
   "source": [
    "def gg(X):\n",
    "    d=np.shape(X)[0]\n",
    "    V=np.zeros(d)\n",
    "    for i in range(np.shape(X)[0]):\n",
    "        if  np.linalg.norm(X[i,:],2)<=1:\n",
    "            V[i]=1\n",
    "        else:\n",
    "            V[i]=0  \n",
    "    return V\n",
    "    \n",
    "def f(g,N):\n",
    "    np.random.seed(seed=25)\n",
    "    #Ran=np.zeros([N,2])\n",
    "    #Ran[:,0]=np.random.uniform(-1,1,size=(N))  \n",
    "    #Ran[:,1]=np.random.uniform(-1,1,size=(N))     \n",
    "    Ran=np.random.uniform(-1,1,size=(2,N)).transpose()\n",
    "    v=g(Ran)\n",
    "    return np.average(v)*4\n",
    "\n",
    "print(\"pi est: \",f(gg,3900))\n",
    "        "
   ]
  }
 ],
 "metadata": {
  "kernelspec": {
   "display_name": "Python 3",
   "language": "python",
   "name": "python3"
  },
  "language_info": {
   "codemirror_mode": {
    "name": "ipython",
    "version": 3
   },
   "file_extension": ".py",
   "mimetype": "text/x-python",
   "name": "python",
   "nbconvert_exporter": "python",
   "pygments_lexer": "ipython3",
   "version": "3.6.2"
  }
 },
 "nbformat": 4,
 "nbformat_minor": 2
}
