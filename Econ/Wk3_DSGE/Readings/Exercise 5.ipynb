{
 "cells": [
  {
   "cell_type": "markdown",
   "metadata": {},
   "source": [
    "# Exercise 5"
   ]
  },
  {
   "cell_type": "code",
   "execution_count": 2,
   "metadata": {
    "collapsed": true
   },
   "outputs": [],
   "source": [
    "import numpy as np\n",
    "from scipy.optimize import  root as eqsolver\n",
    "from scipy.optimize import  minimize"
   ]
  },
  {
   "cell_type": "code",
   "execution_count": 3,
   "metadata": {
    "collapsed": true
   },
   "outputs": [],
   "source": [
    "def obj1(c,w,k,r,tau,alpha,gamma,delta,beta):\n",
    "        V=np.zeros(4)\n",
    "        V[0]=w+(r-delta)*k-c\n",
    "        V[1]=beta*((r-delta)*(1-tau)+1)-1\n",
    "        V[2]=alpha*k**(alpha-1)-r\n",
    "        V[3]=(1-alpha)*k**alpha-w\n",
    "        return V\n",
    "\n",
    "def steady(tau,alpha,gamma,delta,beta,obj1):\n",
    "    obj=lambda x: obj1(x[0],x[1],x[2],x[3],tau,alpha,gamma,delta,beta)\n",
    "    sol=eqsolver(obj,np.array([1,1,.1,2])).x\n",
    "    return sol"
   ]
  },
  {
   "cell_type": "code",
   "execution_count": 4,
   "metadata": {
    "collapsed": true
   },
   "outputs": [],
   "source": [
    "tau0=.05\n",
    "alpha0=.4\n",
    "gamma0=2.5\n",
    "delta0=.10\n",
    "beta0=.98"
   ]
  },
  {
   "cell_type": "code",
   "execution_count": 5,
   "metadata": {
    "collapsed": true
   },
   "outputs": [],
   "source": [
    "res_num=steady(tau0,alpha0,gamma0,delta0,beta0,obj1)\n",
    "res_num=np.append(res_num,tau0*(res_num[1]+(res_num[3]-delta0)*res_num[2]))\n",
    "\n",
    "res_ana=np.zeros(4)\n",
    "\n",
    "res_ana[3]=((1/beta0)-1)/(1-tau0)+delta0 ## r\n",
    "res_ana[2]=(res_ana[3]/alpha0)**(1/(alpha0-1)) ## k\n",
    "res_ana[1]=(res_ana[2]**alpha0)*(1-alpha0)  ## w\n",
    "res_ana[0]=res_ana[1]+(res_ana[3]-delta0)*res_ana[2] ## c\n",
    "\n",
    "res_ana=np.append(res_ana,tau0*(res_ana[1]+(res_ana[3]-delta0)*res_ana[2]))"
   ]
  },
  {
   "cell_type": "code",
   "execution_count": 6,
   "metadata": {},
   "outputs": [
    {
     "name": "stdout",
     "output_type": "stream",
     "text": [
      "\n",
      " Analytical Solution:   \n",
      "c= 1.48450481885 \n",
      " w= 1.32795276835 \n",
      " k= 7.28749795069 \n",
      " r= 0.121482277121 \n",
      " T= 0.0742252409425\n",
      "\n",
      " Numerical Solution:   \n",
      "c= 1.48450481885 \n",
      " w= 1.32795276835 \n",
      " k= 7.28749795069 \n",
      " r= 0.121482277121 \n",
      " T= 0.0742252409425\n"
     ]
    }
   ],
   "source": [
    "print(\"\\n Analytical Solution:  \", \"\\nc=\",res_ana[0],\"\\n w=\",res_ana[1], \"\\n k=\",res_ana[2], \"\\n r=\",res_ana[3], \"\\n T=\",res_ana[4])\n",
    "\n",
    "print(\"\\n Numerical Solution:  \", \"\\nc=\",res_num[0],\"\\n w=\",res_num[1], \"\\n k=\",res_num[2], \"\\n r=\",res_num[3], \"\\n T=\",res_num[4])"
   ]
  }
 ],
 "metadata": {
  "kernelspec": {
   "display_name": "Python 3",
   "language": "python",
   "name": "python3"
  },
  "language_info": {
   "codemirror_mode": {
    "name": "ipython",
    "version": 3
   },
   "file_extension": ".py",
   "mimetype": "text/x-python",
   "name": "python",
   "nbconvert_exporter": "python",
   "pygments_lexer": "ipython3",
   "version": "3.6.2"
  }
 },
 "nbformat": 4,
 "nbformat_minor": 2
}
