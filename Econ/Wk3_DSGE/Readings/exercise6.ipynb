{
 "cells": [
  {
   "cell_type": "markdown",
   "metadata": {},
   "source": [
    "# Exercise 6"
   ]
  },
  {
   "cell_type": "code",
   "execution_count": null,
   "metadata": {
    "collapsed": true
   },
   "outputs": [],
   "source": [
    "import numpy as np\n",
    "from scipy.optimize import  root as eqsolver"
   ]
  },
  {
   "cell_type": "code",
   "execution_count": null,
   "metadata": {
    "collapsed": true
   },
   "outputs": [],
   "source": [
    "def obj1(c,w,l,k,r,tau,alpha,gamma,xi,delta,a,beta):\n",
    "        V=np.zeros(5)\n",
    "        V[0]=w*l+(r-delta)*k-c\n",
    "        V[1]=beta*((r-delta)*(1-tau)+1)-1\n",
    "        V[2]=a*(1-l)**(-xi)-c**(-gamma)*w*(1-tau)\n",
    "        V[3]=alpha*k**(alpha-1)*l**(1-alpha)-r\n",
    "        V[4]=(1-alpha)*k**alpha*l**(-alpha)-w\n",
    "        return V\n",
    "\n",
    "def steady(tau,alpha,gamma,xi,delta,a,beta,obj1):\n",
    "    obj=lambda x: obj1(x[0],x[1],x[2],x[3],x[4],tau,alpha,gamma,xi,delta,a,beta)\n",
    "    sol=eqsolver(obj,np.array([1,1.5,.1,1.2,1])).x\n",
    "    return sol"
   ]
  },
  {
   "cell_type": "code",
   "execution_count": null,
   "metadata": {
    "collapsed": true
   },
   "outputs": [],
   "source": [
    "tau0=.05\n",
    "alpha0=.4\n",
    "gamma0=2.5\n",
    "xi0=1.5\n",
    "delta0=.10\n",
    "a0=.5\n",
    "beta0=.98"
   ]
  },
  {
   "cell_type": "code",
   "execution_count": null,
   "metadata": {
    "collapsed": true
   },
   "outputs": [],
   "source": [
    "res_num=steady(tau0,alpha0,gamma0,xi0,delta0,a0,beta0,obj1)\n",
    "res_num=np.append(res_num,tau0*(res_num[1]*res_num[2]+(res_num[4]-delta0)*res_num[3]))"
   ]
  },
  {
   "cell_type": "code",
   "execution_count": null,
   "metadata": {
    "collapsed": true
   },
   "outputs": [],
   "source": [
    "print(\"\\n Numerical Solution:  \", \"\\nc=\",res_num[0],\"\\n w=\",res_num[1],\"\\n l=\",res_num[2],\"\\n k=\",res_num[3], \"\\n r=\",res_num[4], \"\\n T=\",res_num[5])"
   ]
  }
 ],
 "metadata": {
  "kernelspec": {
   "display_name": "Python 3",
   "language": "python",
   "name": "python3"
  },
  "language_info": {
   "codemirror_mode": {
    "name": "ipython",
    "version": 3
   },
   "file_extension": ".py",
   "mimetype": "text/x-python",
   "name": "python",
   "nbconvert_exporter": "python",
   "pygments_lexer": "ipython3",
   "version": "3.6.2"
  }
 },
 "nbformat": 4,
 "nbformat_minor": 2
}
