{
 "cells": [
  {
   "cell_type": "code",
   "execution_count": 1,
   "metadata": {
    "collapsed": true
   },
   "outputs": [],
   "source": [
    "import numpy as np\n",
    "from scipy.optimize import  root as eqsolver\n",
    "import time\n",
    "from matplotlib import pyplot as plt"
   ]
  },
  {
   "cell_type": "code",
   "execution_count": 2,
   "metadata": {
    "collapsed": true
   },
   "outputs": [],
   "source": [
    "def feasible(f_params,bvec_guess):\n",
    "    nvec=f_params[0]\n",
    "    A=f_params[1]\n",
    "    alpha=f_params[2]\n",
    "    delta=f_params[3]\n",
    "    beta=f_params[4]\n",
    "    \n",
    "    b2=bvec_guess[0]\n",
    "    b3=bvec_guess[1]\n",
    "    \n",
    "    K=b2+b3\n",
    "    w=(1-alpha)*A*((b2+b3)/np.sum(nvec))**alpha\n",
    "    r=alpha*A*(np.sum(nvec)/(b2+b3))**(1-alpha)-delta\n",
    "    C=np.zeros([3,])\n",
    "    C[0]=nvec[0]*w-b2\n",
    "    C[1]=nvec[1]*w+(1+r)*b2-b3\n",
    "    C[2]=nvec[2]*w+(1+r)*b3\n",
    "    \n",
    "    K_cnstr=K<=0\n",
    "    c_cnstr=C<=0\n",
    "\n",
    "    b_cnstr=np.zeros([3,])>np.ones([3,])\n",
    "    if C[0]==1:\n",
    "        b_cnstr[0]=True\n",
    "    if C[1]==1:\n",
    "        b_cnstr[0]=True\n",
    "        b_cnstr[1]=True\n",
    "    if C[2]==1:\n",
    "        b_cnstr[1]=True\n",
    "        \n",
    "    return b_cnstr, c_cnstr, K_cnstr    \n",
    "    "
   ]
  },
  {
   "cell_type": "code",
   "execution_count": 3,
   "metadata": {
    "collapsed": true
   },
   "outputs": [],
   "source": [
    "fparams=(np.array([1,1,0.2]),1,0.35,0.6415,.442)\n",
    "bvecguess1= np.array([1,1.2])\n",
    "bvecguess2= np.array([.6,-0.001])\n",
    "bvecguess3= np.array([.1,.1])"
   ]
  },
  {
   "cell_type": "code",
   "execution_count": 4,
   "metadata": {},
   "outputs": [
    {
     "name": "stdout",
     "output_type": "stream",
     "text": [
      "False False\n",
      "False False False\n",
      "False\n"
     ]
    }
   ],
   "source": [
    "b_cnstr,c_cnstr,k_cnstr = feasible(fparams,bvecguess3)\n",
    "print(b_cnstr[0],b_cnstr[1])\n",
    "print(c_cnstr[0],c_cnstr[1],c_cnstr[2])\n",
    "print(k_cnstr)"
   ]
  },
  {
   "cell_type": "markdown",
   "metadata": {},
   "source": [
    "# Exercise 2\n"
   ]
  },
  {
   "cell_type": "code",
   "execution_count": 5,
   "metadata": {
    "collapsed": true
   },
   "outputs": [],
   "source": [
    "def wage(f_params,k):\n",
    "    nvec=f_params[0]\n",
    "    A=f_params[1]\n",
    "    alpha=f_params[2]\n",
    "    w=(1-alpha)*A*((k)/np.sum(nvec))**alpha\n",
    "    return w\n",
    "def rate(f_params,k):\n",
    "    nvec=f_params[0]\n",
    "    A=f_params[1]\n",
    "    alpha=f_params[2]\n",
    "    delta=f_params[3]\n",
    "    r=alpha*A*(np.sum(nvec)/(k))**(1-alpha)-delta\n",
    "    return r\n",
    "def u_pr(x,f_params):\n",
    "    sigma=f_params[5]\n",
    "    res=(1-sigma)*x**(-sigma)\n",
    "    return res\n",
    "def u(x,f_params):\n",
    "    sigma=f_params[5]\n",
    "    res=(x**(1-sigma)-1)/(1-sigma)\n",
    "    return res\n",
    "\n",
    "def obj(b,f_params):\n",
    "    nvec=f_params[0]\n",
    "    V=np.zeros([2,])\n",
    "    k=b[0]+b[1]\n",
    "    V[0]=u_pr(nvec[0]*wage(f_params,k)-b[0],f_params)\\\n",
    "        -beta*(1.+rate(f_params,k))*\\\n",
    "        u_pr(nvec[1]*wage(f_params,k)+(1.+rate(f_params,k))*b[0]-b[1],f_params)\n",
    "    V[1]=u_pr(nvec[1]*wage(f_params,k)+(1.+rate(f_params,k))*b[0]-b[1],f_params)\\\n",
    "        -beta*(1.+rate(f_params,k))*\\\n",
    "        u_pr((1.+rate(f_params,k))*b[1]+nvec[2]*wage(f_params,k),f_params)\n",
    "    return V\n",
    "\n",
    "\n",
    "def get_SS(params,bvec_guess,SS_graphs):\n",
    "    start_time=time.clock()\n",
    "    f_params=(params[2],params[4],params[5],params[6],params[0],params[1])\n",
    "    nvec=f_params[0]\n",
    "    beta=f_params[4]\n",
    "    alpha=f_params[2]\n",
    "    L=params[3]\n",
    "    A=f_params[1]\n",
    "    delta=params[3]\n",
    "    \n",
    "    f= lambda b: obj(b,f_params)\n",
    "    \n",
    "    b_ss=eqsolver(f,bvec_guess,tol=params[-1]).x\n",
    "    \n",
    "    w_ss=wage(f_params,np.sum(b_ss))\n",
    "    r_ss=rate(f_params,np.sum(b_ss))\n",
    "    \n",
    "    c_ss=np.zeros([3,])\n",
    "    c_ss[0]=nvec[0]*w_ss-b_ss[0]\n",
    "    c_ss[1]=nvec[1]*w_ss+(1+r_ss)*b_ss[0]-b_ss[1]\n",
    "    c_ss[2]=nvec[2]*w_ss+(1+r_ss)*b_ss[1]\n",
    "    \n",
    "    K_ss=np.sum(b_ss)\n",
    "    Y_ss=(A*K_ss**alpha)*L**(1-alpha)\n",
    "    EulErr_ss=np.zeros([2,])\n",
    "    EulErr_ss[0]=beta*(1+r_ss)*u_pr(c_ss[1],f_params)-u_pr(c_ss[0],f_params)\n",
    "    EulErr_ss[1]=beta*(1+r_ss)*u_pr(c_ss[2],f_params)-u_pr(c_ss[1],f_params)\n",
    "    C_ss=np.sum(c_ss)\n",
    "    RCerr_ss=Y_ss-C_ss-delta*K_ss\n",
    "    ss_time=time.clock()-start_time\n",
    "    ss_output = {\n",
    "    'b_ss': b_ss, 'c_ss': c_ss, 'w_ss': w_ss, 'r_ss': r_ss,\n",
    "    'K_ss': K_ss, 'Y_ss': Y_ss, 'C_ss': C_ss,\n",
    "    'EulErr_ss': EulErr_ss, 'RCerr_ss': RCerr_ss,\n",
    "    'ss_time': ss_time}\n",
    "    if SS_graphs==True:\n",
    "        plt.figure(1)\n",
    "        plt.plot(c_ss)\n",
    "        plt.title(\"Consumptions\")\n",
    "        plt.figure(2)\n",
    "        plt.plot(np.append(b_ss,0))\n",
    "        plt.title(\"Savings\")\n",
    "        plt.show()\n",
    "    return ss_output \n",
    "        "
   ]
  },
  {
   "cell_type": "code",
   "execution_count": 6,
   "metadata": {},
   "outputs": [
    {
     "data": {
      "image/png": "[encoded data removed]",
      "text/plain": [
       "<matplotlib.figure.Figure at 0x1debca0d710>"
      ]
     },
     "metadata": {},
     "output_type": "display_data"
    },
    {
     "data": {
      "image/png": "[encoded data removed]",
      "text/plain": [
       "<matplotlib.figure.Figure at 0x1deb8d206a0>"
      ]
     },
     "metadata": {},
     "output_type": "display_data"
    },
    {
     "name": "stdout",
     "output_type": "stream",
     "text": [
      "{'b_ss': array([ 0.01931253,  0.0584111 ]), 'c_ss': array([ 0.18241213,  0.20961468,  0.24087387]), 'w_ss': 0.20172465739033288, 'r_ss': 2.4330623391325288, 'K_ss': 0.077723625752951525, 'Y_ss': 0.68276037885958829, 'C_ss': 0.63290067293906982, 'EulErr_ss': array([  9.15008513e-10,  -1.77286097e-09]), 'RCerr_ss': -0.12113227073597491, 'ss_time': 0.005609585187410717}\n"
     ]
    }
   ],
   "source": [
    "beta = .442\n",
    "sigma = 3\n",
    "delta = .6415\n",
    "A = 1\n",
    "alpha = 0.35\n",
    "nvec = np.array([1,1,.2])\n",
    "L = 2.2\n",
    "SS_tol = 1e-6\n",
    "bvec_guess = np.array([.1,.1])\n",
    "params=(beta,sigma,nvec,L,A,alpha,delta,SS_tol)\n",
    "\n",
    "ss_output=get_SS(params,bvec_guess,True)\n",
    "print(ss_output)"
   ]
  },
  {
   "cell_type": "code",
   "execution_count": 7,
   "metadata": {
    "collapsed": true
   },
   "outputs": [],
   "source": [
    "#Exercise 2.3"
   ]
  },
  {
   "cell_type": "code",
   "execution_count": 10,
   "metadata": {},
   "outputs": [],
   "source": [
    "T=10\n",
    "xi=1\n",
    "xi_1=0\n",
    "epsi=1e-9\n",
    "K_init = np.sum(ss_output[\"b_ss\"]*np.array([0.8,1.1]))\n",
    "K_ss=ss_output[\"K_ss\"]\n",
    "\n",
    "K=np.linspace(K_init,K_ss,T+1)\n",
    "K_pr=np.ones([T+1,])\n",
    "f_params=(params[2],params[4],params[5],params[6],params[0],params[1])"
   ]
  },
  {
   "cell_type": "code",
   "execution_count": 11,
   "metadata": {
    "collapsed": true
   },
   "outputs": [],
   "source": [
    "def f_1(b2,x,W,R,f_params):\n",
    "    n_vec=f_params[0]\n",
    "    return u_pr(n_vec[0]*W[0]+(1+R[0])*b2[0]-x,f_params)-\\\n",
    "    beta*(1+R[1])*u_pr((1+R[1])*x+n_vec[2]*W[1],f_params)\n",
    "\n",
    "def f_2(x,f_params,W,R,i):\n",
    "    nvec=f_params[0]\n",
    "    V=np.zeros([2,])\n",
    "    V[0]=u_pr(nvec[0]*W[i-1]-x[0],f_params)\\\n",
    "        -beta*(1.+R[i])*\\\n",
    "        u_pr(nvec[1]*W[i]+(1+R[i])*x[0]-x[1],f_params)\n",
    "    V[1]=u_pr(nvec[1]*W[i]+(1+R[i])*x[0]-x[1],f_params)\\\n",
    "        -beta*(1.+R[i+1])*\\\n",
    "        u_pr((1.+R[i+1])*x[1]+nvec[2]*W[i+1],f_params)\n",
    "    return V"
   ]
  },
  {
   "cell_type": "code",
   "execution_count": 17,
   "metadata": {},
   "outputs": [],
   "source": [
    "while np.linalg.norm(K_pr[:T]-K[:T],2)>epsi:\n",
    "    \n",
    "    print(np.linalg.norm(K_pr[:T]-K[:T],2))\n",
    "    #print(K)    \n",
    "\n",
    "    b2=np.zeros([T,])\n",
    "    b3=np.zeros([T+1,])\n",
    "    b2[0],b3[0]=ss_output[\"b_ss\"]*np.array([0.8,1.1])\n",
    "\n",
    "    K[:T]=xi_1*K_pr[:T]+(1-xi_1)*K[:T]\n",
    "    \n",
    "    W=wage(f_params,K)\n",
    "    R=rate(f_params,K)\n",
    "\n",
    "    obj_1 = lambda x: f_1(b2,x,W,R,f_params)    \n",
    "    b3[1]=eqsolver(obj_1,.1,tol=params[-1]).x\n",
    "    \n",
    "    for i in range(1,T):\n",
    "        obj_2=lambda x: f_2(x,f_params,W,R,i)\n",
    "        b2[i],b3[i+1]=eqsolver(obj_2,np.array([.1,.1]),tol=params[-1]).x\n",
    "      \n",
    "        \n",
    "    K_pr=b2+b3[:T]\n",
    "    xi_1=xi\n",
    "    \n"
   ]
  },
  {
   "cell_type": "code",
   "execution_count": 27,
   "metadata": {},
   "outputs": [
    {
     "name": "stdout",
     "output_type": "stream",
     "text": [
      "124.978335706\n",
      "110.687184442\n",
      "5.81600885754\n"
     ]
    }
   ],
   "source": [
    "c_ss=np.zeros([3,T])\n",
    "EulerErr=np.zeros([2,T])\n",
    "Y=np.zeros([T,])\n",
    "nvec=f_params[0]\n",
    "beta=f_params[4]\n",
    "alpha=f_params[2]\n",
    "L=params[3]\n",
    "A=f_params[1]\n",
    "delta=params[3]\n",
    "for i in range(T):\n",
    "    c_ss[0,i]=nvec[0]*W[i]-b2[i]\n",
    "    c_ss[1,i]=nvec[1]*W[i]+(1+R[i])*b2[i]-b3[i]\n",
    "    c_ss[2,i]=nvec[2]*W[i]+(1+R[i])*b3[i]\n",
    "    EulerErr[0,i]=beta*(1+R[i])*u_pr(c_ss[1,i],f_params)-u_pr(c_ss[0,i],f_params)\n",
    "    EulerErr[1,i]=beta*(1+R[i])*u_pr(c_ss[2,i],f_params)-u_pr(c_ss[1,i],f_params)    \n",
    "    \n",
    "    Y[i]=(A*K[i]**alpha)*L**(1-alpha)\n",
    "    \n",
    "Con_err=Y-np.sum(c_ss)-delta*K[:T]\n",
    "\n",
    "print(np.linalg.norm(EulerErr[0,:],np.inf))\n",
    "print(np.linalg.norm(EulerErr[1,:],np.inf))\n",
    "print(np.linalg.norm(Con_err,np.inf))\n"
   ]
  },
  {
   "cell_type": "code",
   "execution_count": 30,
   "metadata": {},
   "outputs": [
    {
     "data": {
      "image/png": "[encoded data removed]",
      "text/plain": [
       "<matplotlib.figure.Figure at 0x1debd0357f0>"
      ]
     },
     "metadata": {},
     "output_type": "display_data"
    },
    {
     "data": {
      "image/png": "[encoded data removed]",
      "text/plain": [
       "<matplotlib.figure.Figure at 0x1debcba29b0>"
      ]
     },
     "metadata": {},
     "output_type": "display_data"
    },
    {
     "data": {
      "image/png": "[encoded data removed]",
      "text/plain": [
       "<matplotlib.figure.Figure at 0x1debcec3b38>"
      ]
     },
     "metadata": {},
     "output_type": "display_data"
    }
   ],
   "source": [
    "plt.figure(3)\n",
    "plt.plot(K)\n",
    "plt.title(\"Capital stock\")\n",
    "plt.figure(4)\n",
    "plt.plot(W)\n",
    "plt.title(\"Wage\")\n",
    "plt.figure(5)\n",
    "plt.plot(R)\n",
    "plt.title(\"Interest rate\")\n",
    "plt.show()"
   ]
  }
 ],
 "metadata": {
  "kernelspec": {
   "display_name": "Python 3",
   "language": "python",
   "name": "python3"
  },
  "language_info": {
   "codemirror_mode": {
    "name": "ipython",
    "version": 3
   },
   "file_extension": ".py",
   "mimetype": "text/x-python",
   "name": "python",
   "nbconvert_exporter": "python",
   "pygments_lexer": "ipython3",
   "version": "3.6.2"
  }
 },
 "nbformat": 4,
 "nbformat_minor": 2
}
