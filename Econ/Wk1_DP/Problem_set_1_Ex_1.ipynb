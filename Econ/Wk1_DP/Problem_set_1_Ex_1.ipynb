{
 "cells": [
  {
   "cell_type": "markdown",
   "metadata": {},
   "source": [
    "# Problem 1"
   ]
  },
  {
   "cell_type": "code",
   "execution_count": 6,
   "metadata": {},
   "outputs": [
    {
     "name": "stdout",
     "output_type": "stream",
     "text": [
      "Investment on risk free asset for investor 1 for gamma=2,4,8,166 :\n",
      " [  1.95406655e-02   4.02982364e-03   1.56094147e-04   5.15080071e-17]\n",
      "\n",
      " Investment on risky asset for investor 1  for gamma=2,4,8,166 :\n",
      " [  1.83871699e-15   3.38972738e-16   8.54888467e-17  -6.45122433e-17]\n",
      "\n",
      " Equilibrium price of risk-free asset for gamma=2,4,8,166\n",
      " [ 0.58977766  0.5186613   0.5010144   0.5       ]\n",
      "\n",
      " Equilibrium price of risky asset for gamma=2,4,8,166\n",
      " [ 0.73722207  0.64832663  0.626268    0.625     ]\n"
     ]
    }
   ],
   "source": [
    "import numpy as np\n",
    "from scipy.optimize import  root as eqsolver\n",
    "\n",
    "def v_pr(x,gamma):\n",
    "    return np.power(x,-gamma)\n",
    "\n",
    "def eq(e0,e1,e2,a1,a2,var,gamma):\n",
    "    thet=var[0:2]\n",
    "    q=var[2:4]\n",
    "    res=np.zeros(4)\n",
    "    res[0]=-v_pr(e0-thet[0]*q[0]-thet[1]*q[1],gamma)*q[0]+np.average(v_pr(e1+thet[0]*a1+thet[1]*a2,gamma)*a1)\n",
    "    res[1]=-v_pr(e0+thet[0]*q[0]+thet[1]*q[1],gamma)*q[0]+np.average(v_pr(e2-thet[0]*a1-thet[1]*a2,gamma)*a1)\n",
    "    res[2]=-v_pr(e0-thet[0]*q[0]-thet[1]*q[1],gamma)*q[1]+np.average(v_pr(e1+thet[0]*a1+thet[1]*a2,gamma)*a2)\n",
    "    res[3]=-v_pr(e0+thet[0]*q[0]+thet[1]*q[1],gamma)*q[1]+np.average(v_pr(e2-thet[0]*a1-thet[1]*a2,gamma)*a2)\n",
    "    return res\n",
    "    \n",
    "def ex1(gamma):    \n",
    "    e0=1.\n",
    "    e1=np.array([1,2,1,2])\n",
    "    e2=np.array([3,1,3,1])\n",
    "    a1=np.array([1,1,1,1])\n",
    "    a2=np.array([1,1,1.5,1.5])\n",
    "    guess=np.zeros(4)\n",
    "    obj=lambda var: eq(e0,e1,e2,a1,a2,var,gamma)    \n",
    "    sol=eqsolver(obj,guess)\n",
    "    return sol.x\n",
    "\n",
    "Gamma=np.array([2,4,8,166])\n",
    "Sol=np.zeros([4,4])\n",
    "for i in range(4):\n",
    "    Sol[:,i]=ex1(Gamma[i])\n",
    "    \n",
    "###  Investor 1\n",
    "\n",
    "theta_1_1=Sol[0,:] #Investment on risk free asset\n",
    "theta_1_2=Sol[1,:] #Investment on risky asset\n",
    "print('Investment on risk free asset for investor 1 for gamma=2,4,8,166 :\\n',Sol[0,:] )\n",
    "print('\\n Investment on risky asset for investor 1  for gamma=2,4,8,166 :\\n',Sol[1,:])\n",
    "###  Investor 1\n",
    "\n",
    "theta_2_1=-Sol[0,:] #Investment on risk free asset\n",
    "theta_2_2=-Sol[1,:] #Investment on risky asset    \n",
    "\n",
    "### Equilibrium Price\n",
    "\n",
    "q_1=Sol[2,:]\n",
    "q_2=Sol[3,:]\n",
    "print('\\n Equilibrium price of risk-free asset for gamma=2,4,8,166\\n',Sol[2,:] )\n",
    "print('\\n Equilibrium price of risky asset for gamma=2,4,8,166\\n',Sol[3,:] )\n",
    "\n",
    "\n"
   ]
  }
 ],
 "metadata": {
  "kernelspec": {
   "display_name": "Python 3",
   "language": "python",
   "name": "python3"
  },
  "language_info": {
   "codemirror_mode": {
    "name": "ipython",
    "version": 3
   },
   "file_extension": ".py",
   "mimetype": "text/x-python",
   "name": "python",
   "nbconvert_exporter": "python",
   "pygments_lexer": "ipython3",
   "version": "3.6.2"
  }
 },
 "nbformat": 4,
 "nbformat_minor": 2
}
