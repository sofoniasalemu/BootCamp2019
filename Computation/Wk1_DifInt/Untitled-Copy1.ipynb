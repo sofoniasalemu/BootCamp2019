{
 "cells": [
  {
   "cell_type": "code",
   "execution_count": null,
   "metadata": {
    "collapsed": true
   },
   "outputs": [],
   "source": [
    "Problem 1"
   ]
  },
  {
   "cell_type": "code",
   "execution_count": null,
   "metadata": {
    "collapsed": true
   },
   "outputs": [],
   "source": [
    "import sympy as sy\n",
    "import numpy as np\n",
    "\n",
    "def f(x):\n",
    "    return (sy.sin(x)+1)**(sy.sin(sy.cos(x)))\n",
    "\n",
    "x=sy.symbols('x')\n",
    "f_der=sy.lambdify(x,sy.diff(f(x)))\n",
    "K=50\n",
    "xx=np.linspace(-np.pi,np.pi,K)\n",
    "y11=np.zeros((K,1))\n",
    "y12=np.zeros((K,1))\n",
    "for i in range(K):\n",
    "    y11[i]=f(xx[i])\n",
    "    y12[i]=f_der(xx[i])\n",
    "    \n",
    "from matplotlib import pyplot as plt\n",
    "ax=plt.gca()\n",
    "ax.spines[\"bottom\"].set_position(\"zero\")\n",
    "plt.figure(1)\n",
    "plt.plot(xx,y11)\n",
    "plt.plot(xx,y12)\n"
   ]
  },
  {
   "cell_type": "code",
   "execution_count": null,
   "metadata": {
    "collapsed": true
   },
   "outputs": [],
   "source": [
    "Problem 2"
   ]
  },
  {
   "cell_type": "code",
   "execution_count": null,
   "metadata": {
    "collapsed": true
   },
   "outputs": [],
   "source": [
    "def f(x):\n",
    "    return (np.sin(x)+1)**(np.sin(np.cos(x)))\n",
    "\n",
    "def der_for_1(f,x,h):\n",
    "    return (f(x+h)-f(x))/h\n",
    "\n",
    "def der_for_2(f,x,h):\n",
    "    return (-3*f(x)+4*f(x+h)-f(x+2*h))/(2*h)\n",
    "\n",
    "def der_bac_1(f,x,h):\n",
    "    return (f(x)-f(x-h))/h\n",
    "\n",
    "def der_bac_2(f,x,h):\n",
    "    return (3*f(x)-4*f(x-h)+f(x-2*h))/(2*h)\n",
    "\n",
    "def der_cen_2(f,x,h):\n",
    "    return (f(x+h)-f(x-h))/(2*h)\n",
    "    \n",
    "def der_cen_4(f,x,h):\n",
    "    return (f(x-2*h)-8*f(x-h)+8*f(x+h)-f(x+2*h))/(12*h)\n",
    "    \n",
    "h=1e-3    \n",
    "y21=np.zeros((K,1))\n",
    "y22=np.zeros((K,1))\n",
    "y23=np.zeros((K,1))\n",
    "y24=np.zeros((K,1))\n",
    "y25=np.zeros((K,1))\n",
    "y26=np.zeros((K,1))\n",
    "for i in range(K):\n",
    "    y21[i]=der_for_1(f,xx[i],h)\n",
    "    y22[i]=der_for_2(f,xx[i],h)\n",
    "    y23[i]=der_bac_1(f,xx[i],h)\n",
    "    y24[i]=der_bac_2(f,xx[i],h)\n",
    "    y25[i]=der_cen_2(f,xx[i],h)\n",
    "    y26[i]=der_cen_4(f,xx[i],h)\n",
    "    \n",
    "ax=plt.gca()\n",
    "ax.spines[\"bottom\"].set_position(\"zero\")\n",
    "plt.figure(2)\n",
    "plt.plot(xx,y21)\n",
    "plt.plot(xx,y22)\n",
    "plt.plot(xx,y23)\n",
    "plt.plot(xx,y24)\n",
    "plt.plot(xx,y25)\n",
    "plt.plot(xx,y26)"
   ]
  },
  {
   "cell_type": "raw",
   "metadata": {},
   "source": [
    "PRoblem 5"
   ]
  },
  {
   "cell_type": "markdown",
   "metadata": {},
   "source": [
    "def Jac_num(f,x,h,n,m):\n",
    "    I=np.eye(n)\n",
    "    J=np.zeros((m,n))\n",
    "    for i in range(m):\n",
    "        J[:,i]=(f(np.array(x)+h*I[:,i])-f(np.array(x)-h*I[:,i]))/(2*h)\n",
    "    return J\n",
    "        \n",
    "def f(x):\n",
    "    y=np.zeros(2)\n",
    "    y[0]=x[0]**2\n",
    "    y[1]=x[0]**3-x[1]\n",
    "    return y\n",
    "x0=[1,2]\n",
    "Jac_cen=Jac_num(f,x0,.001,2,2)\n",
    "\n",
    "Jac_analy=np.array([[2*x0[0],0],[3*x0[0],-1]])"
   ]
  },
  {
   "cell_type": "code",
   "execution_count": null,
   "metadata": {
    "collapsed": true
   },
   "outputs": [],
   "source": [
    "Problem 6"
   ]
  },
  {
   "cell_type": "code",
   "execution_count": null,
   "metadata": {
    "collapsed": true
   },
   "outputs": [],
   "source": [
    "from autograd import numpy as anp\n",
    "from autograd import elementwise_grad as grad\n",
    "\n",
    "def cheb_pol(x,n):\n",
    "    #T=anp.zeros((n+1,1),dtype=float)\n",
    "    #T[0]=1.    \n",
    "    T=1.\n",
    "    if n==0:\n",
    "        return T#[0]\n",
    "    else:\n",
    "        #x=np.array(x,dtype=float)\n",
    "        T=np.hstack((T,x)) \n",
    "        #T[1]=x\n",
    "        for i in range(2,n+1,1):\n",
    "            #T[i]=2*x*T[i-1]-T[i-2]\n",
    "            T=np.hstack((T,2*x*T[i-1]-T[i-2])) \n",
    "        return T    \n",
    "    \n",
    "def cheb_pol_n(x,n):    \n",
    "        T=cheb_pol(x,n)\n",
    "        if hasattr(T, \"__len__\"):\n",
    "            return T[-1]\n",
    "        else:\n",
    "            return T\n",
    "h=.001\n",
    "N=anp.linspace(0,4,5,dtype=int)\n",
    "X5=anp.linspace(-1,1,50)\n",
    "Y5=anp.zeros((50,5))\n",
    "Y5_ag=anp.zeros((50,5))\n",
    "for j in range(5):  \n",
    "    def f(y):\n",
    "        return cheb_pol_n(y,N[j])\n",
    "    for i in range(50):\n",
    "        Y5[i,j]=der_cen_2(f,X5[i],h)\n",
    "        #g=lambda x: f(x)\n",
    "        g_grad=grad(f)\n",
    "        Y5_ag[i,j]=g_grad(X5[i])\n",
    "        \n",
    "Y6=np.zeros((50,5))\n",
    "Y6[:,0]=np.zeros((50))\n",
    "Y6[:,1]=np.ones((50))   \n",
    "for i in range(2,5,1):\n",
    "    for j in range(50):\n",
    "        TT=cheb_pol(X5[j],N[i])\n",
    "        Y6[j,i]=2*TT[-2]+2*X5[j]*Y6[j,i-1]-Y6[j,i-2]\n",
    "        \n",
    "#x=sy.symbols('x')\n",
    "#cheb_pol_Der=sy.lambdify(x,sy.diff(cheb_pol(x,n)))      \n"
   ]
  }
 ],
 "metadata": {
  "kernelspec": {
   "display_name": "Python 3",
   "language": "python",
   "name": "python3"
  },
  "language_info": {
   "codemirror_mode": {
    "name": "ipython",
    "version": 3
   },
   "file_extension": ".py",
   "mimetype": "text/x-python",
   "name": "python",
   "nbconvert_exporter": "python",
   "pygments_lexer": "ipython3",
   "version": "3.6.2"
  }
 },
 "nbformat": 4,
 "nbformat_minor": 2
}
