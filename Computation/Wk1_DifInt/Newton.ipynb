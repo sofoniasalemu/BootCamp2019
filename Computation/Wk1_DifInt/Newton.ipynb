{
 "cells": [
  {
   "cell_type": "code",
   "execution_count": 1,
   "metadata": {
    "collapsed": true
   },
   "outputs": [],
   "source": [
    "import numpy as np\n",
    "import scipy"
   ]
  },
  {
   "cell_type": "markdown",
   "metadata": {},
   "source": [
    "# Problem 1"
   ]
  },
  {
   "cell_type": "code",
   "execution_count": 4,
   "metadata": {
    "scrolled": true
   },
   "outputs": [
    {
     "name": "stdout",
     "output_type": "stream",
     "text": [
      "f(xbar)=  -8.881784197001252e-16\n",
      "xbar-scipy sol=  0.0\n"
     ]
    }
   ],
   "source": [
    "def newt(f,x0,f_der,tol,args=(),max_iter=15):\n",
    "    x1=1\n",
    "    i=0\n",
    "    while np.abs(x1-x0)>tol and i<max_iter:\n",
    "        x0=x1\n",
    "        i=i+1\n",
    "        x1=x1-f(x1)/f_der(x1) \n",
    "    if i<max_iter:    \n",
    "        v=True\n",
    "    else:\n",
    "        v=False\n",
    "    return x1, v, i    \n",
    "\n",
    "import scipy.optimize as opt\n",
    "\n",
    "f=lambda y: y**4-3\n",
    "f_der=lambda y: 4*y**3    \n",
    "\n",
    "tol=1e-6\n",
    "xbar,v,n_iter=newt(f,10,f_der,tol)\n",
    "\n",
    "print(\"f(xbar)= \",f(xbar))\n",
    "\n",
    "print(\"xbar-scipy sol= \",xbar-opt.newton(f,10,f_der))"
   ]
  },
  {
   "cell_type": "markdown",
   "metadata": {},
   "source": [
    "# Problem 3"
   ]
  },
  {
   "cell_type": "code",
   "execution_count": 5,
   "metadata": {},
   "outputs": [
    {
     "name": "stdout",
     "output_type": "stream",
     "text": [
      "False\n",
      "15\n",
      "-327.68\n",
      "11529215043.1\n",
      "True\n",
      "7\n",
      "-1.28e-07\n",
      "-3.0\n"
     ]
    }
   ],
   "source": [
    "def newt_b(f,x0,f_der,tol,args=(),max_iter=15,alpha=1):\n",
    "\n",
    "    i=0\n",
    "    d=1\n",
    "    while d>tol and i<max_iter:\n",
    "        \n",
    "        x1=x0-alpha*f(x0)/f_der(x0) \n",
    "        d=np.abs(x1-x0)\n",
    "        x0=x1\n",
    "        i=i+1\n",
    "        \n",
    "    if i<max_iter:    \n",
    "        v=True\n",
    "    else:\n",
    "        v=False\n",
    "    return x1, v, i   \n",
    "\n",
    "f2=lambda x: np.sign(x)*np.power(np.abs(x),1./3)\n",
    "f2_der= lambda x: np.power(np.abs(x),-2./3)*(1./3)\n",
    "\n",
    "xbar,v,n_iter=newt_b(f2,.01,f2_der,tol)\n",
    "print(v)\n",
    "print(n_iter)\n",
    "print(xbar)\n",
    "print(f(xbar))\n",
    "\n",
    "xbar,v,n_iter=newt_b(f2,.01,f2_der,tol,alpha=.4)\n",
    "print(v)\n",
    "print(n_iter)\n",
    "print(xbar)\n",
    "print(f(xbar))\n"
   ]
  },
  {
   "cell_type": "markdown",
   "metadata": {},
   "source": [
    "# Problem 4"
   ]
  },
  {
   "cell_type": "code",
   "execution_count": 13,
   "metadata": {
    "scrolled": true
   },
   "outputs": [
    {
     "data": {
      "image/png": "[encoded data removed]",
      "text/plain": [
       "<matplotlib.figure.Figure at 0x24cc524ac88>"
      ]
     },
     "metadata": {},
     "output_type": "display_data"
    }
   ],
   "source": [
    "from matplotlib import pyplot as plt\n",
    "\n",
    "alp=np.linspace(.1,1,50)\n",
    "ITER=np.zeros(50)\n",
    "for i in range(50):\n",
    "    xbar,v,ITER[i]=newt_b(f2,.01,f2_der,tol,alpha=alp[i])\n",
    "plt.figure(1)\n",
    "plt.plot(alp,ITER)\n",
    "plt.show()\n"
   ]
  },
  {
   "cell_type": "markdown",
   "metadata": {},
   "source": [
    "# Problem 7"
   ]
  },
  {
   "cell_type": "code",
   "execution_count": 20,
   "metadata": {},
   "outputs": [
    {
     "data": {
      "image/png": "[encoded data removed]",
      "text/plain": [
       "<matplotlib.figure.Figure at 0x24cc54d9be0>"
      ]
     },
     "metadata": {},
     "output_type": "display_data"
    },
    {
     "data": {
      "image/png": "[encoded data removed]",
      "text/plain": [
       "<matplotlib.figure.Figure at 0x24cc54951d0>"
      ]
     },
     "metadata": {},
     "output_type": "display_data"
    }
   ],
   "source": [
    "def f_prob7(f,f_der,zeros,bounds,res,iters):\n",
    "    grid_re=np.linspace(bounds[0],bounds[1],res)\n",
    "    grid_im=np.linspace(bounds[2],bounds[3],res)\n",
    "    tol=1e-5\n",
    "    X=np.zeros((res,res),dtype=complex)\n",
    "    Y=np.zeros((res,res))\n",
    "    y=np.zeros((res,res),dtype=complex)\n",
    "    for i in range(res):\n",
    "        for j in range(res):\n",
    "            X[i,j]=complex(grid_re[i],grid_im[j])\n",
    "            y[i,j]=newt_b(f,X[i,j],f_der,tol,iters)[0]\n",
    "            Y[i,j]=np.argmin(np.abs(zeros-y[i,j]))\n",
    "            \n",
    "    plt.pcolormesh(grid_re,grid_im,Y.transpose(),cmap=\"brg\")   \n",
    "    plt.show\n",
    "    \n",
    "f=lambda y: y**3-1\n",
    "f_der=lambda y: 3*y**2    \n",
    "zeros=np.array([1,-.5+(np.sqrt(3)/2)*1j,-.5-(np.sqrt(3)/2)*1j])\n",
    "bounds=np.array([-1.5,1.5,-1.5,1.5])\n",
    "res=50\n",
    "iters=10\n",
    "plt.figure(2)\n",
    "f_prob7(f,f_der,zeros,bounds,res,iters)\n",
    "\n",
    "f=lambda y: y**3-y\n",
    "f_der=lambda y: 3*y**2 -1\n",
    "zeros=np.array([-1,0,1],dtype=complex)\n",
    "bounds=np.array([-1.5,1.5,-1.5,1.5])\n",
    "res=500\n",
    "iters=100\n",
    "plt.figure(3)\n",
    "f_prob7(f,f_der,zeros,bounds,res,iters)\n",
    "plt.show()"
   ]
  }
 ],
 "metadata": {
  "kernelspec": {
   "display_name": "Python 3",
   "language": "python",
   "name": "python3"
  },
  "language_info": {
   "codemirror_mode": {
    "name": "ipython",
    "version": 3
   },
   "file_extension": ".py",
   "mimetype": "text/x-python",
   "name": "python",
   "nbconvert_exporter": "python",
   "pygments_lexer": "ipython3",
   "version": "3.6.2"
  }
 },
 "nbformat": 4,
 "nbformat_minor": 2
}
